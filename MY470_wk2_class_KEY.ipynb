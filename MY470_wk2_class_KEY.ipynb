{
 "cells": [
  {
   "cell_type": "markdown",
   "metadata": {
    "slideshow": {
     "slide_type": "slide"
    }
   },
   "source": [
    "## MY470 Computer Programming\n",
    "# Working with Strings and Lists in Python\n",
    "### Week 2 Lab, MT 2017"
   ]
  },
  {
   "cell_type": "markdown",
   "metadata": {
    "slideshow": {
     "slide_type": "slide"
    }
   },
   "source": [
    "## Git\n",
    "You can use your favourite editor by customizing Git setting. You should run those commands in console windows:\n",
    "\n",
    "### MacOS\n",
    "```\n",
    "git config --global core.editor \"atom --wait\"\n",
    "```\n",
    "\n",
    "### Windows\n",
    "```\n",
    "git config --global core.editor notepad.exe\n",
    "```\n",
    "Alternatively\n",
    "```\n",
    "git config --global core.editor \"'C:\\Program Files (x86)\\Notepad++\\notepad++.exe' -multiInst -notabbar -nosession -noPlugin\"\n",
    "```"
   ]
  },
  {
   "cell_type": "markdown",
   "metadata": {
    "slideshow": {
     "slide_type": "slide"
    }
   },
   "source": [
    "## Variables\n",
    "\n",
    "Variables associate objects (values) with a name. Objects have types (belong to classes).\n",
    "\n",
    "Here are some rules and conventions for naming variables:\n",
    "\n",
    "* Variables must begin with a letter (a - z, A - Z) or underscore (_)\n",
    "* Variables can contain letters, underscore, and numbers"
   ]
  },
  {
   "cell_type": "markdown",
   "metadata": {
    "slideshow": {
     "slide_type": "fragment"
    }
   },
   "source": [
    "* Watch out for reserved words!"
   ]
  },
  {
   "cell_type": "code",
   "execution_count": null,
   "metadata": {
    "collapsed": true,
    "slideshow": {
     "slide_type": "-"
    }
   },
   "outputs": [],
   "source": [
    "# List of reserved words in Python: and, as, assert, break, class, continue, def, del, elif, else, except, exec, \n",
    "# finally, for, from, global, if, import, in, is, lambda, not, or, pass, print, raise, return, try, while, with, yield\n",
    "\n",
    "trial = 2\n",
    "try = 5"
   ]
  },
  {
   "cell_type": "markdown",
   "metadata": {
    "slideshow": {
     "slide_type": "slide"
    }
   },
   "source": [
    "## Best Practice\n",
    "\n",
    "* Use **ALLCAPS** for constants, like passwords or secret keys\n",
    "* Use a consistent style, such as **mixedCaseName** or **underscore_name**"
   ]
  },
  {
   "cell_type": "markdown",
   "metadata": {
    "slideshow": {
     "slide_type": "slide"
    }
   },
   "source": [
    "## Resources\n",
    "\n",
    "In addition to the Python resources online, you can query any object to get help on what methods are available"
   ]
  },
  {
   "cell_type": "code",
   "execution_count": null,
   "metadata": {
    "collapsed": true,
    "slideshow": {
     "slide_type": "-"
    }
   },
   "outputs": [],
   "source": [
    "dir(dict)\n",
    "help(dict.popitem)"
   ]
  },
  {
   "cell_type": "markdown",
   "metadata": {
    "slideshow": {
     "slide_type": "slide"
    }
   },
   "source": [
    "# Strings\n",
    "\n",
    "* Ordered sequences of characters\n",
    "* Immutable"
   ]
  },
  {
   "cell_type": "code",
   "execution_count": null,
   "metadata": {
    "collapsed": true,
    "slideshow": {
     "slide_type": "-"
    }
   },
   "outputs": [],
   "source": [
    "x = 'my string'\n",
    "x.capitalize()\n",
    "print(x)\n",
    "print(x[3])\n",
    "print(x[1:-1])\n",
    "print(x[::2])"
   ]
  },
  {
   "cell_type": "code",
   "execution_count": 1,
   "metadata": {
    "slideshow": {
     "slide_type": "slide"
    }
   },
   "outputs": [
    {
     "name": "stdout",
     "output_type": "stream",
     "text": [
      "rr ee dd\n"
     ]
    }
   ],
   "source": [
    "# Exercise: Make three new strings from the first and last, second and second to last, and\n",
    "# third and third to last letters in the string below. Print the three strings.\n",
    "\n",
    "palindrome = 'redder'\n",
    "\n",
    "\n",
    "# Answer: This exercise asks you to practice indexing\n",
    "new1 = palindrome[0] + palindrome[-1]\n",
    "new2 = palindrome[1] + palindrome[-2]\n",
    "new3 = palindrome[2] + palindrome[-3]\n",
    "\n",
    "print(new1, new2, new3)"
   ]
  },
  {
   "cell_type": "code",
   "execution_count": 47,
   "metadata": {
    "slideshow": {
     "slide_type": "slide"
    }
   },
   "outputs": [
    {
     "name": "stdout",
     "output_type": "stream",
     "text": [
      "I canceled my traveling plans.\n",
      "I canceled my traveling plans.\n"
     ]
    }
   ],
   "source": [
    "# Exercise: Make a new string that is the same as string1 but with the 8th and 22nd characters missing.\n",
    "\n",
    "string1 = 'I cancelled my travelling plans.'\n",
    "\n",
    "# Answer: This exercise asks you to practice slicing\n",
    "new = string1[:7] + string1[8:21] + string1[22:]\n",
    "print(new)\n",
    "\n",
    "# Now you can see that essentially we are asking you to change from British English to American English. \n",
    "# If you knew that, you could have done it another way:\n",
    "new = string1.replace('travelling', 'traveling').replace('cancelled', 'canceled')\n",
    "print(new)\n",
    "\n",
    "# Of course, there are more ways to do with this."
   ]
  },
  {
   "cell_type": "markdown",
   "metadata": {
    "slideshow": {
     "slide_type": "slide"
    }
   },
   "source": [
    "## String Methods\n",
    "\n",
    "* `S.upper()`\n",
    "* `S.lower()`\n",
    "* `S.capitalize()`\n",
    "* `S.find(S1)`\n",
    "* `S.replace(S1, S2)`\n",
    "* `S.strip(S1)`\n",
    "* `S.split(S1)`\n",
    "* `S.join(L)`"
   ]
  },
  {
   "cell_type": "code",
   "execution_count": 7,
   "metadata": {
    "slideshow": {
     "slide_type": "slide"
    }
   },
   "outputs": [
    {
     "name": "stdout",
     "output_type": "stream",
     "text": [
      "This is a very badly formatted string - i would like to make it cleaner.\n",
      "This is a very badly formatted string - I would like to make it cleaner.\n"
     ]
    }
   ],
   "source": [
    "# Exercise: Remove the trailing white space in the string below, replace all double spaces with single space, \n",
    "# and format to a sentence with proper punctuation. Print the resulting string.\n",
    "string1 = '  this  is a very badly.  formatted string -  I would  like to make it cleaner\\n'\n",
    "\n",
    "# Answer: This exercise asks you to practice string methods\n",
    "new = string1.strip().replace('  ', ' ').capitalize().replace('.', '') + '.'\n",
    "print(new)\n",
    "# Hmm, it looks like capitalize() makes everything in the sentence lower case, which is bad for the pronoun 'I'\n",
    "# We will need to fix this.\n",
    "new = new.replace(' i ', ' I ') # Make sure you have the spaces around \"i\", as we will otherwise replace all i's \n",
    "print(new)"
   ]
  },
  {
   "cell_type": "markdown",
   "metadata": {
    "slideshow": {
     "slide_type": "slide"
    }
   },
   "source": [
    "## Methods Can Be \"Stringed\"\n",
    "\n",
    "However, be aware that this may reduce the clarity of your code. \n",
    "\n",
    "It is largely a question of style. \n",
    "\n",
    "Except when you are working with large data — it is then also a question of memory."
   ]
  },
  {
   "cell_type": "code",
   "execution_count": 10,
   "metadata": {
    "slideshow": {
     "slide_type": "slide"
    }
   },
   "outputs": [
    {
     "name": "stdout",
     "output_type": "stream",
     "text": [
      "['apple', 'orange', 'pear', 'cherry']\n"
     ]
    }
   ],
   "source": [
    "# Exercise: Convert the string below to a list\n",
    "\n",
    "s = \"['apple', 'orange', 'pear', 'cherry']\"\n",
    "\n",
    "# Answer: You might think that list(s) would work, but it doesn't, as it interprets each character as an element\n",
    "# To answer this, you need to format the string so that it looks like something you can apply split() to\n",
    "ls = s.lstrip('[').rstrip(']').replace(\"'\",'').split(', ')\n",
    "print(ls)\n"
   ]
  },
  {
   "cell_type": "code",
   "execution_count": 45,
   "metadata": {
    "slideshow": {
     "slide_type": "-"
    }
   },
   "outputs": [
    {
     "name": "stdout",
     "output_type": "stream",
     "text": [
      "desserts reward\n",
      "desserts reward\n"
     ]
    }
   ],
   "source": [
    "# Exercise: Reverse the strings below.\n",
    "\n",
    "semordnilap1 = 'stressed'\n",
    "semordnilap2 = 'drawer'\n",
    "\n",
    "\n",
    "# Answer: Unfortunately, strings don't have a reverse() method. \n",
    "\n",
    "# One solution is to create a list from the string, reverse the list and then join:\n",
    "new1 = ''.join(reversed(list(semordnilap1)))\n",
    "new2 = ''.join(reversed(list(semordnilap2)))\n",
    "print(new1, new2)\n",
    "\n",
    "# Another solution is to use the extended slicing we covered in class:\n",
    "print(semordnilap1[::-1], semordnilap2[::-1])"
   ]
  },
  {
   "cell_type": "markdown",
   "metadata": {
    "slideshow": {
     "slide_type": "slide"
    }
   },
   "source": [
    "# Lists\n",
    "\n",
    "* Ordered sequence of values\n",
    "* Mutable"
   ]
  },
  {
   "cell_type": "code",
   "execution_count": null,
   "metadata": {
    "collapsed": true,
    "slideshow": {
     "slide_type": "-"
    }
   },
   "outputs": [],
   "source": [
    "mylist = [1, 2, 3, 4]\n",
    "mylist.append(5)\n",
    "print(mylist)"
   ]
  },
  {
   "cell_type": "markdown",
   "metadata": {
    "slideshow": {
     "slide_type": "slide"
    }
   },
   "source": [
    "## List Methods\n",
    "\n",
    "* `L.append(e)`\n",
    "* `L.extend(L1)`\n",
    "* `L.insert(i, e)`\n",
    "* `L.remove(e)`\n",
    "* `L.pop(i)`\n",
    "* `L.sort()`\n",
    "* `L.reverse()`"
   ]
  },
  {
   "cell_type": "code",
   "execution_count": 15,
   "metadata": {
    "slideshow": {
     "slide_type": "slide"
    }
   },
   "outputs": [
    {
     "name": "stdout",
     "output_type": "stream",
     "text": [
      "['*', '*', '*', '*', '*', '*', '*', '*', '*', '*']\n"
     ]
    }
   ],
   "source": [
    "# Exercise: Use a list operation to create a list of ten elements, each of which is '*'\n",
    "\n",
    "# Answer: Multiply a list with one '*' by 10\n",
    "print(10*['*'])"
   ]
  },
  {
   "cell_type": "code",
   "execution_count": 16,
   "metadata": {
    "slideshow": {
     "slide_type": "-"
    }
   },
   "outputs": [
    {
     "name": "stdout",
     "output_type": "stream",
     "text": [
      "['dogs', 'cows', 'rabbits', 'cats']\n",
      "eat\n",
      "{'meat', 'grass'}\n"
     ]
    }
   ],
   "source": [
    "# Exercise: Assign each of the three elements in the list below to three variables a, b, c\n",
    "ls = [['dogs', 'cows', 'rabbits', 'cats'], 'eat', {'meat', 'grass'}]\n",
    "\n",
    "# Answer: You can do multiple assignment in Python. This is a useful way to unpack tuples and lists.\n",
    "a, b, c = ls\n",
    "print(a)\n",
    "print(b)\n",
    "print(c)"
   ]
  },
  {
   "cell_type": "code",
   "execution_count": 46,
   "metadata": {
    "slideshow": {
     "slide_type": "-"
    }
   },
   "outputs": [
    {
     "name": "stdout",
     "output_type": "stream",
     "text": [
      "[0, 0, 0, [1, 1, 1]]\n",
      "[0, 0, 0, [1, 1, 1, 100]]\n"
     ]
    }
   ],
   "source": [
    "# Exercise: Replace the last element in ls1 with ls2\n",
    "ls1 = [0, 0, 0, 1]\n",
    "ls2 = [1, 1, 1]\n",
    "\n",
    "# Answer: Use indexing to access and change a list's element.\n",
    "ls1[-1] = ls2\n",
    "print(ls1)\n",
    "# Be aware that this solution is using aliasing. Changing ls2 will change ls1\n",
    "ls2.append(100)\n",
    "print(ls1)"
   ]
  },
  {
   "cell_type": "code",
   "execution_count": 22,
   "metadata": {
    "slideshow": {
     "slide_type": "slide"
    }
   },
   "outputs": [
    {
     "name": "stdout",
     "output_type": "stream",
     "text": [
      "[0, 1, 2, 3, 4, 5, 6, 7, 9]\n"
     ]
    }
   ],
   "source": [
    "# Exercise: Create a new list that contains only unique elements from list x\n",
    "\n",
    "x = [1, 5, 4, 5, 6, 2, 3, 2, 9, 9, 9, 0, 2, 5, 7]\n",
    "\n",
    "# Answer: Create a set from the list and then convert to list again. Can sort, if necessary.\n",
    "unique_ls = list(set(x))\n",
    "unique_ls.sort()\n",
    "print(unique_ls)"
   ]
  },
  {
   "cell_type": "code",
   "execution_count": 23,
   "metadata": {
    "slideshow": {
     "slide_type": "-"
    }
   },
   "outputs": [
    {
     "name": "stdout",
     "output_type": "stream",
     "text": [
      "{'red', 'blue', 'green'}\n"
     ]
    }
   ],
   "source": [
    "# Exercise: Print the elements that occur both in list a and list b\n",
    "\n",
    "a = ['red', 'orange', 'brown', 'blue', 'purple', 'green']\n",
    "b = ['blue', 'cyan', 'green', 'pink', 'red', 'yellow']\n",
    "\n",
    "# Answer: Use sets and their intersection\n",
    "print(set(a) & set(b))"
   ]
  },
  {
   "cell_type": "code",
   "execution_count": 26,
   "metadata": {
    "slideshow": {
     "slide_type": "slide"
    }
   },
   "outputs": [
    {
     "name": "stdout",
     "output_type": "stream",
     "text": [
      "0.1 6\n",
      "0.1 6\n"
     ]
    }
   ],
   "source": [
    "# Exercise: Print the second smallest and the second largest numbers in this list of unique numbers\n",
    "\n",
    "x = [2, 5, 0.7, 0.2, 0.1, 6, 7, 3, 1, 0, 0.3]\n",
    "\n",
    "# Answer: This one requires some ingenuity. One solution is to identify the min() and max()\n",
    "# in the list, remove them and then do it again. This would work because the numbers don't repeat.\n",
    "newx = x[:]\n",
    "newx.remove(max(x))\n",
    "newx.remove(min(x))\n",
    "print(min(newx), max(newx))\n",
    "\n",
    "# Another option is to sort the list and return the second and last to second elements.\n",
    "# Again, this would work here only because there is not more than one instance of the same number in the list.\n",
    "x.sort()\n",
    "print(x[1], x[-2])\n"
   ]
  },
  {
   "cell_type": "code",
   "execution_count": 44,
   "metadata": {
    "slideshow": {
     "slide_type": "slide"
    }
   },
   "outputs": [
    {
     "name": "stdout",
     "output_type": "stream",
     "text": [
      "[1, 2, 3, 4, 5, 'a', 'b', 'c', 'd']\n",
      "[1, 2, 3, 4, 5, 'a', 'b', 'c', 'd']\n",
      "\n",
      "[1, 2, 3, 4, 5, 6, 'a', 'b', 'c', 'd']\n",
      "Modifying c has changed a: a = [1, 2, 3, 4, 5, 6, 'a', 'b', 'c', 'd']\n",
      "And modifying a changes c: c = [1, 2, 3, 4, 5, 6, 'a', 'b', 'c', 'd', 7]\n",
      "\n",
      "[1, 2, 3, 4, 5, 'a', 'b', 'c', 'd']\n",
      "Modify a but not c: a = [1, 2, 3, 4, 5, 6] , c = [1, 2, 3, 4, 5, 'a', 'b', 'c', 'd']\n"
     ]
    }
   ],
   "source": [
    "# Exercise: Create a new list c that contains the elements of list a and b\n",
    "# Watch out for aliasing - you need to avoid it here\n",
    "\n",
    "a = [1, 2, 3, 4, 5]\n",
    "b = ['a', 'b', 'c', 'd']\n",
    "\n",
    "# Answer: The easiest way is to use the '+' operator\n",
    "c = a + b\n",
    "print(c)\n",
    "\n",
    "# Check for aliasing - no issue\n",
    "a.append(6)\n",
    "print(c)\n",
    "\n",
    "print() # need some space between prints for legibility\n",
    "\n",
    "# Another way is to use the extend() method but then you need to account for aliasing\n",
    "# Here is the wrong way to do it\n",
    "c = a\n",
    "c.extend(b)\n",
    "print(c)\n",
    "# Here is why it is wrong: \n",
    "print('Modifying c has changed a: a =', a)\n",
    "a.append(7)\n",
    "print('And modifying a changes c: c =', c)\n",
    "\n",
    "print() # need some space between prints for legibility\n",
    "\n",
    "# Here is the right way:\n",
    "a = [1, 2, 3, 4, 5]\n",
    "b = ['a', 'b', 'c', 'd']\n",
    "c = a[:]\n",
    "c.extend(b)\n",
    "print(c)\n",
    "# Cloned, not aliased:\n",
    "a.append(6)\n",
    "print('Modify a but not c: a =', a, ', c =', c)"
   ]
  },
  {
   "cell_type": "code",
   "execution_count": null,
   "metadata": {
    "collapsed": true,
    "slideshow": {
     "slide_type": "slide"
    }
   },
   "outputs": [],
   "source": [
    "# Extra: find the most efficient way\n",
    "import time\n",
    "n = 1000\n",
    "size = 100000\n",
    "print('Create a list of %d integers for %d times' % (size, n))\n",
    "\n",
    "t = time.time()\n",
    "\n",
    "for h in range(0, n):\n",
    "    l1 = []\n",
    "    for i in range(0, size):\n",
    "        l1.append(99)\n",
    "\n",
    "#print('l1 has ', len(l1), 'values')\n",
    "print('Append %.2f millisecond' % ((time.time() - t) * 1000 / n))\n",
    "\n",
    "t = time.time()\n",
    "\n",
    "for h in range(0, n):\n",
    "    l2 = []\n",
    "    for i in range(0, size):\n",
    "        l2.extend([99])\n",
    "\n",
    "#print('l2 has ', len(l2), 'values')\n",
    "print('Extend %.2f millisecond' % ((time.time() - t) * 1000 / n))\n",
    "\n",
    "t = time.time()\n",
    "\n",
    "for h in range(0, n):\n",
    "    l3 = [0] * size\n",
    "    for i in range(0, size):\n",
    "        l3[i] = 99\n",
    "\n",
    "#print('l3 has ', len(l3), 'values')\n",
    "print('Init with zero %.2f millisecond' % ((time.time() - t) * 1000 / n))\n",
    "\n",
    "t = time.time()\n",
    "\n",
    "for h in range(0, n):\n",
    "    l4 = [None] * size\n",
    "    for i in range(0, size):\n",
    "        l4[i] = 99\n",
    "\n",
    "#print('l4 has ', len(l4), 'values')\n",
    "print('Init with None %.2f millisecond' % ((time.time() - t) * 1000 / n))\n"
   ]
  },
  {
   "cell_type": "markdown",
   "metadata": {
    "slideshow": {
     "slide_type": "slide"
    }
   },
   "source": [
    "## Week 2 Assignment\n",
    "\n",
    "* Practice string and list manipulations\n",
    "* Practice working with data"
   ]
  }
 ],
 "metadata": {
  "celltoolbar": "Slideshow",
  "kernelspec": {
   "display_name": "Python 3",
   "language": "python",
   "name": "python3"
  },
  "language_info": {
   "codemirror_mode": {
    "name": "ipython",
    "version": 3
   },
   "file_extension": ".py",
   "mimetype": "text/x-python",
   "name": "python",
   "nbconvert_exporter": "python",
   "pygments_lexer": "ipython3",
   "version": "3.6.0"
  }
 },
 "nbformat": 4,
 "nbformat_minor": 2
}
