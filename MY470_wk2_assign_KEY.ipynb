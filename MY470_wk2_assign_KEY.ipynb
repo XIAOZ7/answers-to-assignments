{
 "cells": [
  {
   "cell_type": "markdown",
   "metadata": {
    "slideshow": {
     "slide_type": "slide"
    }
   },
   "source": [
    "### MY470 Computer Programming\n",
    "\n",
    "### Week 2 Assignment, MT 2017\n",
    "\n",
    "#### \\*\\*\\* Due 12:00 noon on Monday, October 9 \\*\\*\\*"
   ]
  },
  {
   "cell_type": "markdown",
   "metadata": {
    "slideshow": {
     "slide_type": "slide"
    }
   },
   "source": [
    "---\n",
    "### Working with text\n",
    "\n",
    "For this assignment, we will use the text in the file kafka_trial.txt. The file contains the first paragraph from Franz Kafka's book *The Trial*, which you can find on [Project Gutenberg](http://www.gutenberg.org/ebooks/7849)."
   ]
  },
  {
   "cell_type": "markdown",
   "metadata": {},
   "source": [
    "### Problem 1: How many words?\n",
    "\n",
    "Print the number of words in the text. Enter your code in the cell below. The cell already contains code that takes the text from the file and saves it as a string in the variable txt. Note that the text contains new line characters \"\\n\".\n",
    "\n",
    "#### Hints\n",
    "\n",
    "Count words with apostrophes, e.g. \"didn't\", as one word. Do not count punctuation marks, e.g. hyphens \"-\", as words."
   ]
  },
  {
   "cell_type": "code",
   "execution_count": 57,
   "metadata": {
    "scrolled": false
   },
   "outputs": [
    {
     "name": "stdout",
     "output_type": "stream",
     "text": [
      "Someone must have been telling lies about Josef K., he knew he had\n",
      "done nothing wrong but, one morning, he was arrested.  Every day at\n",
      "eight in the morning he was brought his breakfast by  Mrs. Grubach's\n",
      "cook - Mrs. Grubach was his landlady - but today she didn't come.  That\n",
      "had never happened before.  K. waited a little while, looked from his\n",
      "pillow at the old woman who lived opposite and who was watching him with\n",
      "an inquisitiveness quite unusual for her, and finally, both hungry and\n",
      "disconcert\n",
      "The text contains 1425 words.\n"
     ]
    }
   ],
   "source": [
    "# Open the file and get the text into a string variable called txt\n",
    "with open('kafka_trial.txt') as f:\n",
    "    txt = f.read()\n",
    "print(txt[:500]) # Show the first 500 characters of the txt variable\n",
    "\n",
    "# Replace the new line character '\\n' with whitespace ' ' \n",
    "txt = txt.replace('\\n', ' ')\n",
    "\n",
    "# Remove all punctuation from the text, which includes . , ; \" - ? !\n",
    "txt = txt.replace('.', '').replace(',', '').replace('\"', '').replace('-', '')\n",
    "txt = txt.replace('?', '').replace(';', '').replace('!', '')\n",
    "\n",
    "# Convert the string to lowercase\n",
    "txt = txt.lower()\n",
    "\n",
    "# Split the string into a list of words and print how long the list is\n",
    "txt_lst = txt.split()\n",
    "print('The text contains', len(txt_lst), 'words.')"
   ]
  },
  {
   "cell_type": "markdown",
   "metadata": {},
   "source": [
    "---\n",
    "### Problem 2: How many unique words?\n",
    "\n",
    "Print the number of unique words in the text. Enter your code in the cell below. \n",
    "\n",
    "#### Hints\n",
    "\n",
    "Count contractions, e.g. \"didn't\", and possessives , e.g. \"policeman's\", as distinct words but ignore formatting such as capitalization and quotation marks. "
   ]
  },
  {
   "cell_type": "code",
   "execution_count": 58,
   "metadata": {},
   "outputs": [
    {
     "name": "stdout",
     "output_type": "stream",
     "text": [
      "The text contains 506 unique words.\n"
     ]
    }
   ],
   "source": [
    "# Enter your answer to Problem 2 here. Note that you can reuse code from any code cells above,\n",
    "# as long as you have run the code previously in the current kernel session.\n",
    "\n",
    "# Create a set from the list and print how long the set is\n",
    "txt_set = set(txt_lst)\n",
    "print('The text contains', len(txt_set), 'unique words.')"
   ]
  },
  {
   "cell_type": "markdown",
   "metadata": {},
   "source": [
    "---\n",
    "### Problem 3: How common are certain words?\n",
    "\n",
    "Consider the words \"the\", \"a\", \"and\", \"man\", and \"time\". Create a dictionary where each of these words is a key and the value is the number of times the word appears in the text. Then print five lines of text, each containing one of the words and the number of times it appears.\n",
    " "
   ]
  },
  {
   "cell_type": "code",
   "execution_count": 59,
   "metadata": {},
   "outputs": [
    {
     "name": "stdout",
     "output_type": "stream",
     "text": [
      "the: 61\n",
      "a: 20\n",
      "and: 37\n",
      "man: 9\n",
      "time: 7\n"
     ]
    }
   ],
   "source": [
    "# Enter your answer to Problem 3 here. \n",
    "\n",
    "txt_dic = {'the': txt_lst.count('the'), 'a': txt_lst.count('a'), 'and': txt_lst.count('and'),\n",
    "           'man': txt_lst.count('man'), 'time': txt_lst.count('time')}\n",
    "print('the:', txt_dic['the'])   \n",
    "print('a:', txt_dic['a'])   \n",
    "print('and:', txt_dic['and'])  \n",
    "print('man:', txt_dic['man'])  \n",
    "print('time:', txt_dic['time'])  "
   ]
  },
  {
   "cell_type": "markdown",
   "metadata": {},
   "source": [
    "---\n",
    "### Problem 4: Sort the words alphabetically\n",
    "\n",
    "Sort the unique words in the text alphabetically. Then print the first 10 words starting with letters at the beginning of the alphabet. Then print the last 10 words starting with letter at the end of the alphabet.\n",
    "\n",
    "#### Hints\n",
    "\n",
    "Remember that in order to be able to sort it, your object needs to be ordered and mutable. \n",
    " "
   ]
  },
  {
   "cell_type": "code",
   "execution_count": 60,
   "metadata": {},
   "outputs": [
    {
     "name": "stdout",
     "output_type": "stream",
     "text": [
      "First ten words at the beginning of the alphabet: ['a', 'about', 'accepted', 'accost', 'acknowledged', 'acquaintance', 'act', 'acted', 'actually', 'advantage']\n",
      "Last ten words at the end of the alphabet: [\"wouldn't\", 'wrong', 'year', 'you', \"you'd\", \"you'll\", \"you're\", \"you've\", 'your', 'yourself']\n"
     ]
    }
   ],
   "source": [
    "# Enter your answer to Problem 4 here. \n",
    "\n",
    "newlist = sorted(list(txt_set))\n",
    "print('First ten words at the beginning of the alphabet:', newlist[:10])\n",
    "print('Last ten words at the end of the alphabet:', newlist[-10:])"
   ]
  },
  {
   "cell_type": "markdown",
   "metadata": {},
   "source": [
    "---\n",
    "\n",
    "### Evaluation\n",
    "\n",
    "| Problem | Mark     | Comment   \n",
    "|:-------:|:--------:|:----------------------\n",
    "| 1       |   /25    |              \n",
    "| 2       |   /25    | \n",
    "| 3       |   /25    | \n",
    "| 4       |   /25    | \n",
    "|**Total**|**/100**  | \n"
   ]
  }
 ],
 "metadata": {
  "kernelspec": {
   "display_name": "Python [default]",
   "language": "python",
   "name": "python3"
  },
  "language_info": {
   "codemirror_mode": {
    "name": "ipython",
    "version": 3
   },
   "file_extension": ".py",
   "mimetype": "text/x-python",
   "name": "python",
   "nbconvert_exporter": "python",
   "pygments_lexer": "ipython3",
   "version": "3.5.3"
  }
 },
 "nbformat": 4,
 "nbformat_minor": 2
}
