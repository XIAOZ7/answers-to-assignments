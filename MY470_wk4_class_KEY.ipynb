{
 "cells": [
  {
   "cell_type": "markdown",
   "metadata": {
    "slideshow": {
     "slide_type": "slide"
    }
   },
   "source": [
    "### MY470 Computer Programming\n",
    "# Writing and Calling Functions in Python\n",
    "### Week 4 Lab, MT 2017"
   ]
  },
  {
   "cell_type": "markdown",
   "metadata": {
    "slideshow": {
     "slide_type": "slide"
    }
   },
   "source": [
    "## Defining and Calling Functions\n",
    "\n",
    "### Defining a function\n",
    "\n",
    "```\n",
    "def *function_name*(*list of parameters*):\n",
    "    *body of function*\n",
    "```\n",
    "\n",
    "### Calling a function\n",
    "\n",
    "```\n",
    "*function_name*(*arguments*)\n",
    "```\n",
    "\n",
    "### Functions can take 0 or more arguments and return 0 or more values!"
   ]
  },
  {
   "cell_type": "markdown",
   "metadata": {
    "slideshow": {
     "slide_type": "slide"
    }
   },
   "source": [
    "## Functions Take Arguments by Reference"
   ]
  },
  {
   "cell_type": "code",
   "execution_count": 17,
   "metadata": {
    "slideshow": {
     "slide_type": "-"
    }
   },
   "outputs": [
    {
     "name": "stdout",
     "output_type": "stream",
     "text": [
      "[1, 2, 3, 0]\n"
     ]
    }
   ],
   "source": [
    "def change_list(alist):\n",
    "    alist.append(0)\n",
    "\n",
    "mylist = [1, 2, 3]\n",
    "change_list(mylist)\n",
    "print(mylist)"
   ]
  },
  {
   "cell_type": "code",
   "execution_count": 18,
   "metadata": {
    "scrolled": true,
    "slideshow": {
     "slide_type": "-"
    }
   },
   "outputs": [
    {
     "name": "stdout",
     "output_type": "stream",
     "text": [
      "[1, 2, 3]\n"
     ]
    }
   ],
   "source": [
    "def change_list(alist):\n",
    "    '''Takes a list and returns another list of the same length \n",
    "    that looks like [0, 0, 0, ...].'''\n",
    "    alist = [0]*len(alist)  # Creates a new local reference for alist\n",
    "\n",
    "mylist = [1, 2, 3]\n",
    "change_list(mylist)\n",
    "print(mylist)"
   ]
  },
  {
   "cell_type": "code",
   "execution_count": 19,
   "metadata": {
    "slideshow": {
     "slide_type": "-"
    }
   },
   "outputs": [
    {
     "name": "stdout",
     "output_type": "stream",
     "text": [
      "[1, 2, 3]\n",
      "[0, 0, 0]\n"
     ]
    }
   ],
   "source": [
    "# Exercise: Rewrite the function definition and call above to accomplish what the function intends to do\n",
    "\n",
    "# Solution: Just save the new list in a variable\n",
    "\n",
    "def zero_list(alist):\n",
    "    '''Takes a list and returns another list of the same length \n",
    "    that looks like [0, 0, 0, ...].'''\n",
    "    newlist = [0]*len(alist)  # Don't use the same name as the argument to avoid confusion\n",
    "    return newlist\n",
    "\n",
    "mylist = [1, 2, 3]\n",
    "zerolist = zero_list(mylist)  # You need to save the list the function returns in a variable\n",
    "print(mylist) # Original list is not modified\n",
    "print(zerolist)\n"
   ]
  },
  {
   "cell_type": "markdown",
   "metadata": {
    "slideshow": {
     "slide_type": "slide"
    }
   },
   "source": [
    "## Using Docstrings (String Literals) to Specify Functions\n"
   ]
  },
  {
   "cell_type": "code",
   "execution_count": 20,
   "metadata": {
    "slideshow": {
     "slide_type": "-"
    }
   },
   "outputs": [
    {
     "name": "stdout",
     "output_type": "stream",
     "text": [
      "Help on function f in module __main__:\n",
      "\n",
      "f(x, y)\n",
      "    Demonstrates the importance of providing specification for functions.\n",
      "    Assumes x and y any type.\n",
      "    Returns nothing.\n",
      "\n"
     ]
    }
   ],
   "source": [
    "def f(x, y):\n",
    "    '''Demonstrates the importance of providing specification for functions.\n",
    "    Assumes x and y any type.\n",
    "    Returns nothing.'''\n",
    "    pass\n",
    "\n",
    "help(f)"
   ]
  },
  {
   "cell_type": "markdown",
   "metadata": {
    "slideshow": {
     "slide_type": "slide"
    }
   },
   "source": [
    "## Using Functions Instead of Copy-Pasting Code"
   ]
  },
  {
   "cell_type": "code",
   "execution_count": 21,
   "metadata": {
    "slideshow": {
     "slide_type": "-"
    }
   },
   "outputs": [
    {
     "name": "stdout",
     "output_type": "stream",
     "text": [
      "Alan Turing was a mathematician.\n",
      "Richard Feynman was a physicist.\n",
      "Marie Curie was a chemist.\n",
      "Charles Darwin was a biologist.\n",
      "Ada Lovelace was a mathematician.\n",
      "Werner Heisenberg was a physicist.\n"
     ]
    }
   ],
   "source": [
    "# Consider the following code:\n",
    "\n",
    "# Print the name and profession of famous dead scientists:\n",
    "print('Alan Turing was a mathematician.')\n",
    "print('Richard Feynman was a physicist.')\n",
    "print('Marie Curie was a chemist.')\n",
    "print('Charles Darwin was a biologist.')\n",
    "print('Ada Lovelace was a mathematician.')\n",
    "print('Werner Heisenberg was a physicist.')"
   ]
  },
  {
   "cell_type": "code",
   "execution_count": 22,
   "metadata": {
    "slideshow": {
     "slide_type": "-"
    }
   },
   "outputs": [
    {
     "name": "stdout",
     "output_type": "stream",
     "text": [
      "Alan Turing was a mathematician.\n",
      "Richard Feynman was a physicist.\n",
      "Marie Curie was a chemist.\n",
      "Charles Darwin was a biologist.\n",
      "Ada Lovelace was a mathematician.\n",
      "Werner Heisenberg was a physicist.\n"
     ]
    }
   ],
   "source": [
    "# Exercise: Rewrite the code using a function and a suitable data structure.\n",
    "\n",
    "\n",
    "# Solution: Use a dictionary to store the data and a function that reads the dictionary\n",
    "# and prints each sentence. There is less of a chance to make a typo if you carefully\n",
    "# write the function once instead of copying-pasting-and-modifying each print statement.\n",
    "\n",
    "scientists = {'Alan Turing': 'mathematician', 'Richard Feynman': 'physicist',\n",
    "              'Marie Curie': 'chemist', 'Charles Darwin': 'biologist',\n",
    "              'Ada Lovelace': 'mathematician', 'Werner Heisenberg': 'physicist'}\n",
    "\n",
    "def print_professions(dic):\n",
    "    '''Takes a dictionary of {Name: profession} and prints\n",
    "    \"Name was a profession.\"'''\n",
    "    for i in dic:\n",
    "        print(i + ' was a ' + dic[i] + '.')\n",
    "        \n",
    "print_professions(scientists)\n"
   ]
  },
  {
   "cell_type": "markdown",
   "metadata": {
    "slideshow": {
     "slide_type": "slide"
    }
   },
   "source": [
    "## Using Functions For General Cases"
   ]
  },
  {
   "cell_type": "code",
   "execution_count": 23,
   "metadata": {
    "slideshow": {
     "slide_type": "-"
    }
   },
   "outputs": [
    {
     "name": "stdout",
     "output_type": "stream",
     "text": [
      "True\n",
      "False\n"
     ]
    }
   ],
   "source": [
    "# Exercise: Write a Python function that checks if a string is a palindrome.\n",
    "# A palindrome is a word or a phrase that reads the same backward as forward.\n",
    "# For example, redder, nurses run, dad...\n",
    "\n",
    "# Solution: Start from left and right end and compare letters until you reach the middle. \n",
    "# You need only one pair to be unequal to know that the string is not a palindrome\n",
    "\n",
    "def is_palindrome(s):\n",
    "    '''Assymes s is a string. \n",
    "    Returns True if s is a palindrome, False otherwise.'''\n",
    "    \n",
    "    # Remove all spaces. Notice that s = s.replace() does not overwrite teh original string\n",
    "    # as s is a local variable.\n",
    "    s = s.replace(' ', '') \n",
    "    \n",
    "     # Start from first and last letter\n",
    "    lindex = 0 \n",
    "    rindex = len(s) -1\n",
    "    \n",
    "    while lindex < rindex:\n",
    "        if s[lindex]!=s[rindex]:\n",
    "            return False\n",
    "        lindex += 1\n",
    "        rindex -= 1\n",
    "    \n",
    "    return True\n",
    "\n",
    "print(is_palindrome('nurses run'))\n",
    "print(is_palindrome('nurses walk'))\n"
   ]
  },
  {
   "cell_type": "markdown",
   "metadata": {
    "slideshow": {
     "slide_type": "slide"
    }
   },
   "source": [
    "## Using Functions to Improve Legibility"
   ]
  },
  {
   "cell_type": "code",
   "execution_count": 24,
   "metadata": {
    "slideshow": {
     "slide_type": "-"
    }
   },
   "outputs": [
    {
     "name": "stdout",
     "output_type": "stream",
     "text": [
      "8.860022573334675\n"
     ]
    }
   ],
   "source": [
    "# Consider the following code:\n",
    "\n",
    "# You are given two points in 2-D space\n",
    "x = (1, 1)\n",
    "y = (5, 4)\n",
    "\n",
    "# Calculate the area of the circle if one of the points is the circle center and the other is on the perimeter\n",
    "# and then calculate the side of the square with the same area\n",
    "r_sq = (x[0] - y[0])**2 + (x[1] - y[1])**2\n",
    "area = 3.14*r_sq\n",
    "sq_side = area**0.5\n",
    "print(sq_side)\n"
   ]
  },
  {
   "cell_type": "code",
   "execution_count": 25,
   "metadata": {
    "slideshow": {
     "slide_type": "-"
    }
   },
   "outputs": [
    {
     "name": "stdout",
     "output_type": "stream",
     "text": [
      "8.860022573334675\n"
     ]
    }
   ],
   "source": [
    "# Exercise: Rewrite the code below using functions to make it easier to read.\n",
    "\n",
    "\n",
    "# Solution: Break the code into as many meaningful, self-contained functions as you can.\n",
    "\n",
    "def get_dist(x, y):\n",
    "    '''Assumes x and y are each a two-sequence of numeric coordinates. \n",
    "    Estimates the disatnce between x and y.'''\n",
    "    return ( (x[0] - y[0])**2 + (x[1] - y[1])**2 )**0.5\n",
    "\n",
    "def get_circle_area(r):\n",
    "    '''Assumes r is a numeric type. \n",
    "    Estimates the area of a circle with radius r.'''\n",
    "    return 3.14*r*r\n",
    "\n",
    "def get_square_side(a):\n",
    "    '''Assumes a is a numeric type.\n",
    "    Estimates the side of a square with area a.'''\n",
    "    return a**0.5\n",
    "\n",
    "# Now just call each function sequentially. If you have descriptive names for the functions,\n",
    "# there isn't even a need to comment your code!\n",
    "r = get_dist(x, y)\n",
    "area = get_circle_area(r)\n",
    "s = get_square_side(area)\n",
    "print(s)"
   ]
  },
  {
   "cell_type": "markdown",
   "metadata": {
    "slideshow": {
     "slide_type": "slide"
    }
   },
   "source": [
    "## Using Functions Inside List Comprehensions"
   ]
  },
  {
   "cell_type": "code",
   "execution_count": 26,
   "metadata": {
    "slideshow": {
     "slide_type": "-"
    }
   },
   "outputs": [
    {
     "name": "stdout",
     "output_type": "stream",
     "text": [
      "[0.0, 0.25, 1.0, 2.25, 4.0, 6.25, 9.0, 12.25, 16.0, 20.25]\n"
     ]
    }
   ],
   "source": [
    "def square_half(x):\n",
    "    '''Assumes x is numeric. Estimates the square of x/2.'''\n",
    "    return (x/2)**2\n",
    "\n",
    "lst = [square_half(i) for i in range(10)]\n",
    "print(lst)\n"
   ]
  },
  {
   "cell_type": "code",
   "execution_count": 27,
   "metadata": {
    "slideshow": {
     "slide_type": "-"
    }
   },
   "outputs": [
    {
     "name": "stdout",
     "output_type": "stream",
     "text": [
      "[None, None, 2, 178, None, 12, None, None, 12]\n"
     ]
    }
   ],
   "source": [
    "# Exercise: Using a function and a list comprehension, create a new list that has the numbers from\n",
    "# testlist if they are positive and None otherwise\n",
    "\n",
    "testlist = [-1, 0, 2, 178, -17.2, 12, -2, -3, 12]\n",
    "\n",
    "\n",
    "# Solution:\n",
    "\n",
    "def positive_or_none(x):\n",
    "    '''Assumes x is of numeric type.\n",
    "    Returns the number x if it is positive, 0 otherwise.'''\n",
    "    if x > 0:\n",
    "        return x\n",
    "    # Remember that a function terminates with return. This means that \n",
    "    # if the condition above is true, the function never reaches the return statement below.\n",
    "    # If it is false, it will execute the return below. Thus, we can do without \"else\" here.\n",
    "    return None \n",
    "\n",
    "newlist = [positive_or_none(i) for i in testlist]\n",
    "print(newlist)\n"
   ]
  },
  {
   "cell_type": "code",
   "execution_count": 28,
   "metadata": {
    "slideshow": {
     "slide_type": "-"
    }
   },
   "outputs": [
    {
     "name": "stdout",
     "output_type": "stream",
     "text": [
      "[None, 0.0, None, 89.0, -1.4333333333333333, 24.0, None, -12.0, None]\n"
     ]
    }
   ],
   "source": [
    "# Exercise: Using a function and a list comprehension, create a new list that includes the result\n",
    "# from dividing each number from testlist1 by the corresponding number in testlist2; \n",
    "# For the cases when the divisor is 0, the new list should include None\n",
    "\n",
    "testlist1 = [-1, 0, 2, 178, -17.2, 12, -2, -3, 12]\n",
    "testlist2 = [0, 5, 0, 2, 12, 0.5, 0, 0.25, 0]\n",
    "\n",
    "\n",
    "# Solution: Use range(len(lst1)) to get the indexes of lst1 and lst2\n",
    "# and iterate over their elements simultaneously\n",
    "\n",
    "def divide_or_none(x, y):\n",
    "    '''Assumes x and y are of numeric type.\n",
    "    Returns x/y unless y=0, in which case returns None.'''\n",
    "    if y != 0:\n",
    "        return x/y\n",
    "    return None \n",
    "\n",
    "newlist = [divide_or_none(testlist1[i], testlist2[i]) for i in range(len(testlist1))]\n",
    "print(newlist)\n"
   ]
  }
 ],
 "metadata": {
  "celltoolbar": "Slideshow",
  "kernelspec": {
   "display_name": "Python 3",
   "language": "python",
   "name": "python3"
  },
  "language_info": {
   "codemirror_mode": {
    "name": "ipython",
    "version": 3
   },
   "file_extension": ".py",
   "mimetype": "text/x-python",
   "name": "python",
   "nbconvert_exporter": "python",
   "pygments_lexer": "ipython3",
   "version": "3.6.0"
  }
 },
 "nbformat": 4,
 "nbformat_minor": 2
}
